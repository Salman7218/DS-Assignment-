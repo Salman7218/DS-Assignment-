{
 "cells": [
  {
   "cell_type": "code",
   "execution_count": null,
   "id": "228151cc-584e-4faa-b55b-319ac7c1cd3c",
   "metadata": {},
   "outputs": [],
   "source": [
    "\"\"\"Q1. Explain Class and Object with respect to Object-Oriented Programming. Give a suitable example.\n",
    "Ans.: Object-oriented programming (OOP) is a programming paradigm that models real-world concepts as objects. A class is a blueprint or template that defines \n",
    "the attributes (data) and methods (functions) of an object. An object is an instance of a class that contains specific data and can perform actions based on its methods.\"\"\"\n",
    "class Car:\n",
    "    def __init__(self, make, model, year):\n",
    "        self.make = make\n",
    "        self.model = model\n",
    "        self.year = year\n",
    "\n",
    "    def start(self):\n",
    "        print(f\"{self.make} {self.model} ({self.year}) is starting...\")\n",
    "\n",
    "    def stop(self):\n",
    "        print(f\"{self.make} {self.model} ({self.year}) has stopped.\")\n",
    "        \n",
    "\"\"\"In the above example, 'Car' is a class that has three attributes: 'make', 'model', and 'year'. The class also has two methods: 'start()' and 'stop()'. The '__init__()\" method is a constructor that is called when an object of the Car class is created. \n",
    "It initializes the values of the make, model, and year attributes.\n",
    "\"\"\""
   ]
  },
  {
   "cell_type": "code",
   "execution_count": null,
   "id": "17d3493f-93b4-4478-9028-1b191e035657",
   "metadata": {},
   "outputs": [],
   "source": [
    "\"\"\"Q2. Name the four pillars of OOPs.\n",
    "Ans.:1.Encapsulation: It is the process of binding data (variables) and methods (functions) that \n",
    "operate on that data in a single unit. Encapsulation helps in hiding the implementation details \n",
    "of an object from the outside world and only exposing a public interface to interact with it.\n",
    "\n",
    "2.Abstraction: It is the process of focusing on the essential features of an object and ignoring \n",
    "the non-essential details. Abstraction provides a simplified view of an object by hiding the complexity \n",
    "and implementation details.\n",
    "\n",
    "3.Inheritance: It is the process of creating new classes from existing classes. Inheritance \n",
    "allows us to reuse the code from existing classes and create new classes with modified or additional functionality.\n",
    "\n",
    "4.Polymorphism: It is the ability of an object to take on multiple forms. Polymorphism allows objects of different \n",
    "classes to be treated as if they are of the same class, thus providing flexibility and reusability of code.\n",
    "\"\"\""
   ]
  },
  {
   "cell_type": "code",
   "execution_count": 4,
   "id": "1c7a475b-1bd1-43c1-9540-d65175a64484",
   "metadata": {},
   "outputs": [],
   "source": [
    "\"\"\"Q3. Explain why the __init__() function is used. Give a suitable example.\n",
    "Ans.:In object-oriented programming (OOP), the __init__() function is used as a constructor method for initializing \n",
    "an object's attributes when it is created. It is a special method that gets called automatically when an object is \n",
    "instantiated from a class.The __init__() method allows us to define the initial state of an object by setting its \n",
    "attributes to certain values. This method takes the instance of the object as its first argument (self) and any other \n",
    "arguments that we want to pass in while creating the object.\n",
    "Example.:\n",
    "\"\"\"\n",
    "def __init__(self,phone_no,email_id,student_id):\n",
    "    self.phone_no = phone_no\n",
    "    self.email_id = email_id\n",
    "    self.student_id = student_id\n",
    "    \n",
    "def return_student_details(self):\n",
    "    return self.student_id,self.email_id,self.phone_no"
   ]
  },
  {
   "cell_type": "code",
   "execution_count": null,
   "id": "4effa12c-b837-4747-8377-da441b915926",
   "metadata": {},
   "outputs": [],
   "source": [
    "\"\"\"Q4. Why self is used in OOPs?\n",
    "Ans.:in object-oriented programming, self is a special keyword that refers to the instance of a class. It is used within \n",
    "the methods of a class to access and manipulate the attributes of that instance.When a method is called on an instance \n",
    "of a class, the instance is automatically passed as the first argument to the method, which is typically named self. \n",
    "This allows the method to access and modify the instance's attributes.\"\"\""
   ]
  },
  {
   "cell_type": "code",
   "execution_count": null,
   "id": "9f7a9ca5-fceb-421c-a1cf-09870eb99ea3",
   "metadata": {},
   "outputs": [],
   "source": [
    "\"\"\"Q5. What is inheritance? Give an example for each type of inheritance.\n",
    "Ans.: Inheritance is a fundamental concept in object-oriented programming (OOP) that allows a new class to be based on an \n",
    "existing class. The new class, called the \"subclass\" or \"derived class\", inherits the properties and behavior of the existing \n",
    "class, called the \"base class\" or \"superclass\", and can also add new properties and behavior of its own.Inheritance is used \n",
    "to create a hierarchy of related classes that share common attributes and methods. By defining a base class with common functionality, \n",
    "we can then create subclasses that specialize or extend that functionality as needed. This allows us to reuse code and avoid duplication, \n",
    "while also making our code more modular and maintainable.\n",
    "\n",
    "For example, let's say we have a 'Vehicle' class that has attributes like \n",
    "'make', 'model', and 'year', as well as methods like 'start()' and 'stop()'. We can then create a Car subclass that inherits from the Vehicle \n",
    "class and adds its own attributes and methods specific to 'cars', such as n'um_doors', 'drive()', and 'park()'. Similarly, we can create a \n",
    "'Motorcycle' subclass that inherits from 'Vehicle' and adds attributes and methods specific to motorcycles.\n",
    "\"\"\"\n"
   ]
  }
 ],
 "metadata": {
  "kernelspec": {
   "display_name": "Python 3 (ipykernel)",
   "language": "python",
   "name": "python3"
  },
  "language_info": {
   "codemirror_mode": {
    "name": "ipython",
    "version": 3
   },
   "file_extension": ".py",
   "mimetype": "text/x-python",
   "name": "python",
   "nbconvert_exporter": "python",
   "pygments_lexer": "ipython3",
   "version": "3.10.8"
  }
 },
 "nbformat": 4,
 "nbformat_minor": 5
}
