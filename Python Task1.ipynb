{
 "cells": [
  {
   "cell_type": "code",
   "execution_count": null,
   "id": "475866f9-feae-4250-af8a-a0c0e4d52091",
   "metadata": {},
   "outputs": [],
   "source": [
    "\"\"\"Q1. Create a function which will take a list as an argument and return the product of all the numbers\n",
    "after creating a flat list.\n",
    "Use the below-given list as an argument for your function.\n",
    "list1 = [1,2,3,4, [44,55,66, True], False, (34,56,78,89,34), {1,2,3,3,2,1}, {1:34, \"key2\": [55, 67, 78, 89], 4: (45,\n",
    "22, 61, 34)}, [56, 'data science'], 'Machine Learning']\n",
    "\"\"\"\n",
    "def product_of_numbers(lst):\n",
    "    flat_list = []\n",
    "    for item in lst:\n",
    "        if isinstance(item, (list, tuple, set)):\n",
    "            flat_list.extend(item)\n",
    "        elif isinstance(item, dict):\n",
    "            flat_list.extend(item.keys())\n",
    "            flat_list.extend(item.values())\n",
    "        else:\n",
    "            flat_list.append(item)\n",
    "            \n",
    "    numbers = [num for num in flat_list if isinstance(num, (int, float))]\n",
    "    product = 1\n",
    "    for num in numbers:\n",
    "        product *= num\n",
    "        \n",
    "    return product\n"
   ]
  },
  {
   "cell_type": "code",
   "execution_count": 1,
   "id": "4e6ca120-95b9-4517-b3fb-954e21900432",
   "metadata": {},
   "outputs": [
    {
     "name": "stdout",
     "output_type": "stream",
     "text": [
      "$dzmg$gl$yvxlnv$z$zgz$xrvmgrhg.\n"
     ]
    }
   ],
   "source": [
    "\"\"\"Q2. Write a python program for encrypting a message sent to you by your friend. The logic of encryption\n",
    "should be such that, for a the output should be z. For b, the output should be y. For c, the output should\n",
    "be x respectively. Also, the whitespace should be replaced with a dollar sign. Keep the punctuation\n",
    "marks unchanged.\n",
    "Input Sentence: I want to become a Data Scientist.\n",
    "Encrypt the above input sentence using the program you just created.\n",
    "\"\"\"\n",
    "\n",
    "def encrypt(message):\n",
    "    encrypted_message = ''\n",
    "    for letter in message:\n",
    "        if letter.isalpha():\n",
    "            encrypted_letter = chr(219 - ord(letter))\n",
    "            encrypted_message += encrypted_letter\n",
    "        elif letter == ' ':\n",
    "            encrypted_message += '$'\n",
    "        else:\n",
    "            encrypted_message += letter\n",
    "    return encrypted_message\n",
    "\n",
    "input_sentence = 'I want to become a Data Scientist.'\n",
    "encrypted_sentence = encrypt(input_sentence)\n",
    "print(encrypted_sentence)\n"
   ]
  },
  {
   "cell_type": "code",
   "execution_count": null,
   "id": "6e24f784-3555-417c-9b31-e1e8279b62fc",
   "metadata": {},
   "outputs": [],
   "source": []
  }
 ],
 "metadata": {
  "kernelspec": {
   "display_name": "Python 3 (ipykernel)",
   "language": "python",
   "name": "python3"
  },
  "language_info": {
   "codemirror_mode": {
    "name": "ipython",
    "version": 3
   },
   "file_extension": ".py",
   "mimetype": "text/x-python",
   "name": "python",
   "nbconvert_exporter": "python",
   "pygments_lexer": "ipython3",
   "version": "3.10.8"
  }
 },
 "nbformat": 4,
 "nbformat_minor": 5
}
