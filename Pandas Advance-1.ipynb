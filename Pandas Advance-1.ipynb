{
 "cells": [
  {
   "cell_type": "code",
   "execution_count": null,
   "id": "22a7d8d8-3041-458b-b59a-ad8e31dcb357",
   "metadata": {},
   "outputs": [],
   "source": [
    "\"\"\"Q1. List any five functions of the pandas library with execution.\n",
    "Ans.: 1. read_csv(): This function is used to read a CSV file into a pandas DataFrame.\"\"\"\n",
    "\n",
    "import pandas as pd\n",
    "\n",
    "# Read a CSV file into a DataFrame\n",
    "df = pd.read_csv('data.csv')\n",
    "\n",
    "\"\"\"2.head(): This function is used to display the first n rows of a DataFrame.\"\"\"\n",
    "# Display the first 5 rows of the DataFrame\n",
    "print(df.head())\n",
    "\n",
    "\"\"\"3. groupby(): This function is used to group the rows of a DataFrame based on one or more columns.\"\"\"\n",
    "# Group the rows based on the 'category' column and calculate the mean of each group\n",
    "grouped_df = df.groupby('category').mean()\n",
    "\n",
    "\"\"\"4. dropna(): This function is used to remove rows with missing values from a DataFrame.\"\"\"\n",
    "# Remove rows with missing values from the DataFrame\n",
    "df = df.dropna()\n",
    "\n",
    "\"\"\"5. plot(): This function is used to create a variety of visualizations such as line plots, scatter plots, bar charts, and more.\"\"\"\n",
    "# Create a line plot of the 'sales' column\n",
    "df.plot(kind='line', x='date', y='sales')\n",
    "\n"
   ]
  },
  {
   "cell_type": "code",
   "execution_count": 1,
   "id": "17c80385-62b5-4a2d-b626-a822cbbd76ec",
   "metadata": {},
   "outputs": [
    {
     "name": "stdout",
     "output_type": "stream",
     "text": [
      "   A  B  C\n",
      "0  1  4  7\n",
      "1  2  5  8\n",
      "2  3  6  9\n",
      "   A  B  C\n",
      "1  1  4  7\n",
      "3  2  5  8\n",
      "5  3  6  9\n"
     ]
    }
   ],
   "source": [
    "\"\"\"Q2. Given a Pandas DataFrame df with columns 'A', 'B', and 'C', write a Python function to re-index the\n",
    "DataFrame with a new index that starts from 1 and increments by 2 for each row.\n",
    "Ans.: Sure, here's a Python function that re-indexes a Pandas DataFrame with a new index that starts from 1 and increments by 2 for each row:\"\"\"\n",
    "import pandas as pd\n",
    "\n",
    "def reindex_df(df):\n",
    "    # Create a new index that starts from 1 and increments by 2 for each row\n",
    "    new_index = pd.RangeIndex(start=1, stop=len(df)*2, step=2)\n",
    "    \n",
    "    # Set the new index on the DataFrame\n",
    "    df = df.set_index(new_index)\n",
    "    \n",
    "    return df\n",
    "\"\"\"Here's an example usage of the function:\"\"\"\n",
    "\n",
    "# Create a sample DataFrame\n",
    "df = pd.DataFrame({'A': [1, 2, 3], 'B': [4, 5, 6], 'C': [7, 8, 9]})\n",
    "\n",
    "# Print the original DataFrame\n",
    "print(df)\n",
    "\n",
    "# Re-index the DataFrame\n",
    "df = reindex_df(df)\n",
    "\n",
    "# Print the re-indexed DataFrame\n",
    "print(df)\n"
   ]
  },
  {
   "cell_type": "code",
   "execution_count": 2,
   "id": "99effa0b-5b1e-4e3c-995f-818a62d1bdee",
   "metadata": {},
   "outputs": [
    {
     "name": "stdout",
     "output_type": "stream",
     "text": [
      "Sum of the first three values: 60\n"
     ]
    }
   ],
   "source": [
    "\"\"\"Q3. You have a Pandas DataFrame df with a column named 'Values'. Write a Python function that\n",
    "iterates over the DataFrame and calculates the sum of the first three values in the 'Values' column. The\n",
    "function should print the sum to the console.\n",
    "For example, if the 'Values' column of df contains the values [10, 20, 30, 40, 50], your function should\n",
    "calculate and print the sum of the first three values, which is 60.\n",
    "Ans.:  Python function that iterates over a Pandas DataFrame and calculates the sum of the first three values in the 'Values' column:\"\"\"\n",
    "import pandas as pd\n",
    "\n",
    "def sum_first_three(df):\n",
    "    # Get the first three values from the 'Values' column\n",
    "    first_three_values = df['Values'][:3]\n",
    "    \n",
    "    # Calculate the sum of the first three values\n",
    "    sum_first_three = first_three_values.sum()\n",
    "    \n",
    "    # Print the sum to the console\n",
    "    print('Sum of the first three values:', sum_first_three)\n",
    "\n",
    "    \"\"\"Here's an example usage of the function with a sample DataFrame:\"\"\"\n",
    "\n",
    "# Create a sample DataFrame\n",
    "df = pd.DataFrame({'Values': [10, 20, 30, 40, 50]})\n",
    "\n",
    "# Call the sum_first_three function on the DataFrame\n",
    "sum_first_three(df)\n"
   ]
  },
  {
   "cell_type": "code",
   "execution_count": 3,
   "id": "dc54d903-0b38-462f-b4d1-ac8c8bcd4983",
   "metadata": {},
   "outputs": [
    {
     "name": "stdout",
     "output_type": "stream",
     "text": [
      "                        Text  Word_Count\n",
      "0  This is a sample sentence           5\n",
      "1    Here is another example           4\n"
     ]
    }
   ],
   "source": [
    "\"\"\"Q4. Given a Pandas DataFrame df with a column 'Text', write a Python function to create a new column\n",
    "'Word_Count' that contains the number of words in each row of the 'Text' column.\n",
    "Ans.:\"\"\"\n",
    "\n",
    "import pandas as pd\n",
    "\n",
    "def add_word_count(df):\n",
    "    # Split the 'Text' column into words using the whitespace separator\n",
    "    words = df['Text'].str.split()\n",
    "\n",
    "    # Count the number of words in each row and add them as a new column 'Word_Count'\n",
    "    df['Word_Count'] = words.apply(len)\n",
    "    \n",
    "    return df\n",
    "\n",
    "\"\"\"Here's an example usage of the function:\"\"\"\n",
    "\n",
    "# Create a sample DataFrame\n",
    "df = pd.DataFrame({'Text': ['This is a sample sentence', 'Here is another example']})\n",
    "\n",
    "# Call the add_word_count function on the DataFrame\n",
    "df = add_word_count(df)\n",
    "\n",
    "# Print the updated DataFrame\n",
    "print(df)\n"
   ]
  },
  {
   "cell_type": "code",
   "execution_count": 4,
   "id": "79d617e1-a65c-46d2-b670-9fd2efa53cb0",
   "metadata": {},
   "outputs": [
    {
     "name": "stdout",
     "output_type": "stream",
     "text": [
      "6\n",
      "(2, 3)\n"
     ]
    }
   ],
   "source": [
    "\"\"\"Q5. How are DataFrame.size() and DataFrame.shape() different?\n",
    "Ans.:Both DataFrame.size() and DataFrame.shape() are methods in Pandas that provide information about the size of a DataFrame, but they\n",
    "return different values.\n",
    "\n",
    "DataFrame.size() returns the total number of elements in the DataFrame, which is equal to the product of the number of rows and columns \n",
    "in the DataFrame. This method returns a scalar value.\n",
    "DataFrame.shape() returns a tuple that contains the number of rows and columns in the DataFrame, respectively. This method returns a \n",
    "tuple of integers.\n",
    "\n",
    "Here's an example to illustrate the difference:\"\"\"\n",
    "\n",
    "import pandas as pd\n",
    "\n",
    "# Create a sample DataFrame with 2 rows and 3 columns\n",
    "df = pd.DataFrame({'A': [1, 2], 'B': [3, 4], 'C': [5, 6]})\n",
    "\n",
    "# Print the total number of elements in the DataFrame using size()\n",
    "print(df.size)  # Output: 6\n",
    "\n",
    "# Print the number of rows and columns in the DataFrame using shape()\n",
    "print(df.shape)  # Output: (2, 3)\n",
    "\n"
   ]
  },
  {
   "cell_type": "code",
   "execution_count": null,
   "id": "32287e38-81d3-4347-850c-94d699cc0e95",
   "metadata": {},
   "outputs": [],
   "source": [
    "\"\"\"Q6. Which function of pandas do we use to read an excel file?\n",
    "Ans.: To read an Excel file in Pandas, we use the read_excel() function.\n",
    "\n",
    "Here's the basic syntax to read an Excel file using read_excel():\"\"\"\n",
    "\n",
    "import pandas as pd\n",
    "\n",
    "df = pd.read_excel('file_name.xlsx')\n",
    "\n",
    "\"\"\"In this syntax, file_name.xlsx is the name of the Excel file that you want to read. By default, the function reads the first sheet of \n",
    "the Excel file and returns a Pandas DataFrame.\n",
    "\n",
    "You can also specify the sheet name or sheet index to read, and other options such as header, index column, etc., using additional\n",
    "parameters of the read_excel() function.\n",
    "\n",
    "For example, to read the second sheet of an Excel file and set the first row as the header, you can use the following code:\"\"\"\n",
    "\n",
    "import pandas as pd\n",
    "\n",
    "df = pd.read_excel('file_name.xlsx', sheet_name='Sheet2', header=0)\n",
    "\n",
    "\"\"\"In this code, sheet_name='Sheet2' specifies the name of the sheet to read, and header=0 sets the first row of the sheet as the column header.\"\"\""
   ]
  },
  {
   "cell_type": "code",
   "execution_count": 6,
   "id": "f50e015c-06af-4588-a9e1-fbc9e46d79f8",
   "metadata": {},
   "outputs": [],
   "source": [
    "\"\"\"Q7. You have a Pandas DataFrame df that contains a column named 'Email' that contains email\n",
    "addresses in the format 'username@domain.com'. Write a Python function that creates a new column\n",
    "'Username' in df that contains only the username part of each email address.\n",
    "The username is the part of the email address that appears before the '@' symbol. For example, if the\n",
    "email address is 'john.doe@example.com', the 'Username' column should contain 'john.doe'. Your\n",
    "function should extract the username from each email address and store it in the new 'Username'\n",
    "column.\n",
    "Ans.: \"\"\"\n",
    "\n",
    "import pandas as pd\n",
    "\n",
    "def extract_username(df):\n",
    "    # Use str.split() to split each email address by '@'\n",
    "    # and store the result in a new DataFrame\n",
    "    email_parts = df['Email'].str.split('@', expand=True)\n",
    "\n",
    "    # Use string indexing to select the first part of each email address\n",
    "    # and store the result in a new column 'Username'\n",
    "    df['Username'] = email_parts[0]\n",
    "\n",
    "    # Return the modified DataFrame\n",
    "    return df\n"
   ]
  },
  {
   "cell_type": "code",
   "execution_count": 8,
   "id": "c01e8b5c-be70-4371-90c7-0baf51c3b9b4",
   "metadata": {},
   "outputs": [],
   "source": [
    "\"\"\"Q8. You have a Pandas DataFrame df with columns 'A', 'B', and 'C'. Write a Python function that selects\n",
    "all rows where the value in column 'A' is greater than 5 and the value in column 'B' is less than 10. The\n",
    "function should return a new DataFrame that contains only the selected rows.\n",
    "For example, if df contains the following values:\n",
    "A B C\n",
    "0 3 5 1\n",
    "1 8 2 7\n",
    "2 6 9 4\n",
    "3 2 3 5\n",
    "4 9 1 2\n",
    "Your function should select the following rows: A B C\n",
    "1 8 2 7\n",
    "4 9 1 2\n",
    "The function should return a new DataFrame that contains only the selected rows.\"\"\"\n",
    "\n",
    "import pandas as pd\n",
    "\n",
    "def select_rows(df):\n",
    "    # Use boolean indexing to select rows where column 'A' > 5 and column 'B' < 10\n",
    "    selected_rows = df[(df['A'] > 5) & (df['B'] < 10)]\n",
    "\n",
    "    # Return the new DataFrame with the selected rows\n",
    "    return selected_rows\n"
   ]
  },
  {
   "cell_type": "code",
   "execution_count": 9,
   "id": "a314f8b3-c1e8-4021-bf5d-f2b2e132a7c0",
   "metadata": {},
   "outputs": [
    {
     "name": "stdout",
     "output_type": "stream",
     "text": [
      "Mean: 3.0\n",
      "Median: 3.0\n",
      "Standard deviation: 1.5811388300841898\n"
     ]
    }
   ],
   "source": [
    "\"\"\"Q9. Given a Pandas DataFrame df with a column 'Values', write a Python function to calculate the mean,\n",
    "median, and standard deviation of the values in the 'Values' column.\n",
    "Ans.: \"\"\"\n",
    "\n",
    "import pandas as pd\n",
    "\n",
    "def calculate_statistics(df):\n",
    "    # Calculate the mean, median, and standard deviation of the values in column 'Values'\n",
    "    mean = df['Values'].mean()\n",
    "    median = df['Values'].median()\n",
    "    std_dev = df['Values'].std()\n",
    "\n",
    "    # Print the results to the console\n",
    "    print('Mean:', mean)\n",
    "    print('Median:', median)\n",
    "    print('Standard deviation:', std_dev)\n",
    "\n",
    "\"\"\"In this function, we use the mean(), median(), and std() methods of the DataFrame to calculate the mean, median, and standard deviation\n",
    "of the values in column 'Values'. We then print the results to the console using the print() function.\n",
    "\n",
    "To use this function, simply pass your DataFrame df as an argument:\"\"\"\n",
    "\n",
    "df = pd.DataFrame({'Values': [1, 2, 3, 4, 5]})\n",
    "calculate_statistics(df)\n"
   ]
  },
  {
   "cell_type": "code",
   "execution_count": 10,
   "id": "0c999a15-55b6-429a-9a92-a853dac9e776",
   "metadata": {},
   "outputs": [
    {
     "name": "stdout",
     "output_type": "stream",
     "text": [
      "        Date  Sales  MovingAverage\n",
      "0 2022-01-01     10           10.0\n",
      "1 2022-01-02     20           15.0\n",
      "2 2022-01-03     30           20.0\n",
      "3 2022-01-04     40           25.0\n",
      "4 2022-01-05     50           30.0\n",
      "5 2022-01-06     60           35.0\n",
      "6 2022-01-07     70           40.0\n",
      "7 2022-01-08     80           50.0\n",
      "8 2022-01-09     90           60.0\n",
      "9 2022-01-10    100           70.0\n"
     ]
    }
   ],
   "source": [
    "\"\"\"Q10. Given a Pandas DataFrame df with a column 'Sales' and a column 'Date', write a Python function to\n",
    "create a new column 'MovingAverage' that contains the moving average of the sales for the past 7 days\n",
    "for each row in the DataFrame. The moving average should be calculated using a window of size 7 and\n",
    "should include the current day.\n",
    "Ans.: Python function that calculates the moving average:\"\"\"\n",
    "\n",
    "import pandas as pd\n",
    "\n",
    "def calculate_moving_average(df):\n",
    "    # Set the index of the DataFrame to the 'Date' column\n",
    "    df.set_index('Date', inplace=True)\n",
    "\n",
    "    # Calculate the moving average using a window of size 7\n",
    "    ma = df['Sales'].rolling(window=7, min_periods=1).mean()\n",
    "\n",
    "    # Add the moving average as a new column in the DataFrame\n",
    "    df['MovingAverage'] = ma\n",
    "\n",
    "    # Reset the index of the DataFrame\n",
    "    df.reset_index(inplace=True)\n",
    "\n",
    "    # Print the updated DataFrame to the console\n",
    "    print(df)\n",
    "\n",
    "    \n",
    "\"\"\"simply pass your DataFrame df as an argument:\"\"\"\n",
    "df = pd.DataFrame({\n",
    "    'Sales': [10, 20, 30, 40, 50, 60, 70, 80, 90, 100],\n",
    "    'Date': pd.date_range(start='2022-01-01', periods=10)\n",
    "})\n",
    "calculate_moving_average(df)\n"
   ]
  },
  {
   "cell_type": "code",
   "execution_count": 11,
   "id": "73c388ca-26be-4e1d-82c8-639c96a7b553",
   "metadata": {},
   "outputs": [
    {
     "name": "stdout",
     "output_type": "stream",
     "text": [
      "        Date    Weekday\n",
      "0 2023-01-01     Sunday\n",
      "1 2023-01-02     Monday\n",
      "2 2023-01-03    Tuesday\n",
      "3 2023-01-04  Wednesday\n",
      "4 2023-01-05   Thursday\n"
     ]
    }
   ],
   "source": [
    "\"\"\"Q11. You have a Pandas DataFrame df with a column 'Date'. Write a Python function that creates a new\n",
    "column 'Weekday' in the DataFrame. The 'Weekday' column should contain the weekday name (e.g.\n",
    "Monday, Tuesday) corresponding to each date in the 'Date' column.\n",
    "For example, if df contains the following values:\n",
    "Date\n",
    "0 2023-01-01\n",
    "1 2023-01-02\n",
    "2 2023-01-03\n",
    "3 2023-01-04\n",
    "4 2023-01-05\n",
    "Your function should create the following DataFrame:\n",
    "\n",
    "Date Weekday\n",
    "0 2023-01-01 Sunday\n",
    "1 2023-01-02 Monday\n",
    "2 2023-01-03 Tuesday\n",
    "3 2023-01-04 Wednesday\n",
    "4 2023-01-05 Thursday\n",
    "The function should return the modified DataFrame.\n",
    "\n",
    "Ans.:You can use the Pandas dt accessor to extract the weekday name from the Date column and create a new column Weekday in the DataFrame. \n",
    "Here's a Python function that does this:\"\"\"\n",
    "\n",
    "import pandas as pd\n",
    "\n",
    "def add_weekday_column(df):\n",
    "    # Convert the 'Date' column to datetime if it's not already\n",
    "    df['Date'] = pd.to_datetime(df['Date'])\n",
    "    \n",
    "    # Use the 'dt' accessor to extract the weekday name from the 'Date' column\n",
    "    df['Weekday'] = df['Date'].dt.day_name()\n",
    "    \n",
    "    # Return the modified DataFrame\n",
    "    return df\n",
    "\n",
    "\n",
    "\"\"\"You can then call this function with your original DataFrame as an argument to add the Weekday column:\"\"\"\n",
    "df = pd.DataFrame({'Date': ['2023-01-01', '2023-01-02', '2023-01-03', '2023-01-04', '2023-01-05']})\n",
    "df_with_weekday = add_weekday_column(df)\n",
    "print(df_with_weekday)\n"
   ]
  },
  {
   "cell_type": "code",
   "execution_count": 12,
   "id": "357b6e94-ddc9-436b-9278-05b2946d5436",
   "metadata": {},
   "outputs": [],
   "source": [
    "\"\"\"Q12. Given a Pandas DataFrame df with a column 'Date' that contains timestamps, write a Python\n",
    "function to select all rows where the date is between '2023-01-01' and '2023-01-31'.\n",
    "Ans.:  \"\"\"\n",
    "\n",
    "import pandas as pd\n",
    "\n",
    "def select_rows_between_dates(df):\n",
    "    start_date = pd.Timestamp('2023-01-01')\n",
    "    end_date = pd.Timestamp('2023-01-31')\n",
    "    mask = (df['Date'] >= start_date) & (df['Date'] <= end_date)\n",
    "    selected_rows = df.loc[mask]\n",
    "    return selected_rows\n"
   ]
  },
  {
   "cell_type": "code",
   "execution_count": null,
   "id": "48c80196-8fe4-4e3c-bd7a-8cbd869f2603",
   "metadata": {},
   "outputs": [],
   "source": [
    "\"\"\"Q13. To use the basic functions of pandas, what is the first and foremost necessary library that needs to\n",
    "be imported?\n",
    "Ans.: The first and foremost necessary library that needs to be imported to use the basic functions of pandas is pandas itself. It \n",
    "is usually imported with the following statement:\"\"\"\n",
    "\n",
    "import pandas as pd\n"
   ]
  }
 ],
 "metadata": {
  "kernelspec": {
   "display_name": "Python 3 (ipykernel)",
   "language": "python",
   "name": "python3"
  },
  "language_info": {
   "codemirror_mode": {
    "name": "ipython",
    "version": 3
   },
   "file_extension": ".py",
   "mimetype": "text/x-python",
   "name": "python",
   "nbconvert_exporter": "python",
   "pygments_lexer": "ipython3",
   "version": "3.10.8"
  }
 },
 "nbformat": 4,
 "nbformat_minor": 5
}
