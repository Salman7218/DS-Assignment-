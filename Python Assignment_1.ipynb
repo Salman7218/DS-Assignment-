{
 "cells": [
  {
   "cell_type": "code",
   "execution_count": null,
   "id": "c8c7c48c-482a-44c1-8c87-6ed20f33fa75",
   "metadata": {},
   "outputs": [],
   "source": [
    "Q1.  Explain with an example each when to use a for loop and a while loop.\n",
    "Ans.: -'for' loop is typically used when you know the number of times you want to iterate over a block of code. It has a predetermined structure, with a counter variable and a set range or sequence to iterate over.\n",
    "\n",
    "Example:Suppose you have a list of numbers and you want to print out each number in the list. Here's how you would use a for loop to do that:\n",
    "    numbers = [1, 2, 3, 4, 5]\n",
    "    for number in numbers:\n",
    "        print(number)\n",
    "        \n",
    "In this case, the for loop iterates over each number in the numbers list and prints it out. Since we know the number of items in the list beforehand, a for loop is the appropriate choice.\n",
    "\n",
    "-'while' loop, on the other hand, is typically used when you want to iterate over a block of code as long as a certain condition is true. It does not have a predetermined number of iterations, so it can be more flexible than a for loop.\n",
    "Example:Suppose you want to keep asking a user for input until they type \"quit\". Here's how you would use a while loop to do that:\n",
    "\n",
    "        user_input = \"\"\n",
    "        while user_input != \"quit\":\n",
    "            user_input = input(\"Please enter a command ('quit' to exit): \")\n",
    "            print(\"You entered:\", user_input)\n",
    "\n",
    "In this case, the while loop iterates over the block of code as long as the user_input variable is not equal to \"quit\". This allows us to keep asking for input until the user types \"quit\". Since we don't know how many times the loop will run beforehand, a while loop is the appropriate choice.   \n"
   ]
  },
  {
   "cell_type": "code",
   "execution_count": 9,
   "id": "e59555f7-d09e-414e-902c-eddb8f389c7e",
   "metadata": {},
   "outputs": [
    {
     "name": "stdout",
     "output_type": "stream",
     "text": [
      "Sum of first 10 natural numbers: 55\n",
      "Product of first 10 natural numbers: 3628800\n",
      "Sum of first 10 natural numbers: 55\n",
      "Product of first 10 natural numbers: 3628800\n"
     ]
    }
   ],
   "source": [
    "Q2.  Write a python program to print the sum and product of the first 10 natural numbers using for\n",
    "and while loop.\n",
    "Ans.: \n",
    "# Sum of first 10 natural numbers using for loop\n",
    "sum = 0\n",
    "for i in range(1, 11):\n",
    "    sum += i\n",
    "print(\"Sum of first 10 natural numbers:\", sum)\n",
    "\n",
    "# Product of first 10 natural numbers using for loop\n",
    "product = 1\n",
    "for i in range(1, 11):\n",
    "    product *= i\n",
    "print(\"Product of first 10 natural numbers:\", product)\n",
    "\n",
    "# Sum of first 10 natural numbers using while loop\n",
    "sum = 0\n",
    "i = 1\n",
    "while i <= 10:\n",
    "    sum += i\n",
    "    i += 1\n",
    "print(\"Sum of first 10 natural numbers:\", sum)\n",
    "\n",
    "# Product of first 10 natural numbers using while loop\n",
    "product = 1\n",
    "i = 1\n",
    "while i <= 10:\n",
    "    product *= i\n",
    "    i += 1\n",
    "print(\"Product of first 10 natural numbers:\", product)\n",
    "\n"
   ]
  },
  {
   "cell_type": "code",
   "execution_count": 8,
   "id": "424bbf92-8362-40df-9d33-98a2fcc1a3ba",
   "metadata": {},
   "outputs": [
    {
     "name": "stdin",
     "output_type": "stream",
     "text": [
      "Enter the number of units consumed:  310\n"
     ]
    },
    {
     "name": "stdout",
     "output_type": "stream",
     "text": [
      "Electricity Bill = Rs. 7192.0\n",
      "Test case failed.\n"
     ]
    }
   ],
   "source": [
    "Q3. Create a python program to compute the electricity bill for a household.\n",
    "The per-unit charges in rupees are as follows: For the first 100 units, the user will be charged Rs. 4.5 per\n",
    "unit, for the next 100 units, the user will be charged Rs. 6 per unit, and for the next 100 units, the user will\n",
    "be charged Rs. 10 per unit, After 300 units and above the user will be charged Rs. 20 per unit.\n",
    "You are required to take the units of electricity consumed in a month from the user as input. \n",
    "Your program must pass this test case: when the unit of electricity consumed by the user in a month is\n",
    "310, the total electricity bill should be 2250.\n",
    "Ans.:\n",
    "units_consumed = int(input(\"Enter the number of units consumed: \"))\n",
    "\n",
    "if units_consumed <= 100:\n",
    "    rate_per_unit = 4.5\n",
    "elif units_consumed <= 200:\n",
    "    rate_per_unit = 6\n",
    "elif units_consumed <= 300:\n",
    "    rate_per_unit = 10\n",
    "else:\n",
    "    rate_per_unit = 20\n",
    "\n",
    "electricity_bill = units_consumed * rate_per_unit\n",
    "\n",
    "surcharge = electricity_bill * 0.1\n",
    "tax = electricity_bill * 0.06\n",
    "total_bill = electricity_bill + surcharge + tax\n",
    "\n",
    "print(\"Electricity Bill = Rs.\", total_bill)\n",
    "\n",
    "if units_consumed == 310 and total_bill == 2250:\n",
    "    print(\"Test case passed.\")\n",
    "else:\n",
    "    print(\"Test case failed.\")\n"
   ]
  },
  {
   "cell_type": "code",
   "execution_count": 5,
   "id": "14910442-f78f-438f-8623-086fb311ed25",
   "metadata": {},
   "outputs": [
    {
     "name": "stdout",
     "output_type": "stream",
     "text": [
      "[8, 64, 125, 216, 512, 1000, 1728, 2744, 3375, 4096, 5832, 8000, 10648, 13824, 15625, 17576, 21952, 27000, 32768, 39304, 42875, 46656, 54872, 64000, 74088, 85184, 91125, 97336, 110592, 125000, 140608, 157464, 166375, 175616, 195112, 216000, 238328, 262144, 274625, 287496, 314432, 343000, 373248, 405224, 421875, 438976, 474552, 512000, 551368, 592704, 614125, 636056, 681472, 729000, 778688, 830584, 857375, 884736, 941192, 1000000]\n"
     ]
    }
   ],
   "source": [
    "Q4. Create a list of numbers from 1 to 100. Use for loop and while loop to calculate the cube of each\n",
    "number and if the cube of that number is divisible by 4 or 5 then append that number in a list and print\n",
    "that list.\n",
    "Ans.:\n",
    "# Create a list of cubes of numbers from 1 to 100\n",
    "cubes = []\n",
    "for num in range(1, 101):\n",
    "    cubes.append(num ** 3)\n",
    "\n",
    "# Initialize a list to store the cubes that are divisible by 4 or 5\n",
    "divisible_cubes = []\n",
    "\n",
    "# Loop through the cubes list and append the cubes that are divisible by 4 or 5 to the new list\n",
    "for cube in cubes:\n",
    "    if cube % 4 == 0 or cube % 5 == 0:\n",
    "        divisible_cubes.append(cube)\n",
    "\n",
    "# Print the list of cubes that are divisible by 4 or 5\n",
    "print(divisible_cubes)\n"
   ]
  },
  {
   "cell_type": "code",
   "execution_count": 4,
   "id": "46d3714d-77aa-4810-a669-1557317e2575",
   "metadata": {},
   "outputs": [
    {
     "name": "stdout",
     "output_type": "stream",
     "text": [
      "The number of vowels in the string is: 12\n"
     ]
    }
   ],
   "source": [
    "Q5.  Write a program to filter count vowels in the below-given string.\n",
    "string = \"I want to become a data scientist\"\n",
    "Ans:-\n",
    "# Define the string\n",
    "string = \"I want to become a data scientist\"\n",
    "\n",
    "# Define the vowels\n",
    "vowels = \"aeiouAEIOU\"\n",
    "\n",
    "# Initialize a counter for vowels\n",
    "vowel_count = 0\n",
    "\n",
    "# Loop through the string and count the vowels\n",
    "for char in string:\n",
    "    if char in vowels:\n",
    "        vowel_count += 1\n",
    "\n",
    "# Print the number of vowels in the string\n",
    "print(\"The number of vowels in the string is:\", vowel_count)\n"
   ]
  },
  {
   "cell_type": "code",
   "execution_count": null,
   "id": "621ce093-dcd3-432f-b21b-c25b49b966b1",
   "metadata": {},
   "outputs": [],
   "source": []
  }
 ],
 "metadata": {
  "kernelspec": {
   "display_name": "Python 3 (ipykernel)",
   "language": "python",
   "name": "python3"
  },
  "language_info": {
   "codemirror_mode": {
    "name": "ipython",
    "version": 3
   },
   "file_extension": ".py",
   "mimetype": "text/x-python",
   "name": "python",
   "nbconvert_exporter": "python",
   "pygments_lexer": "ipython3",
   "version": "3.10.8"
  }
 },
 "nbformat": 4,
 "nbformat_minor": 5
}
