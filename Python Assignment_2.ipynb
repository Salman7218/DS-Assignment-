{
 "cells": [
  {
   "cell_type": "code",
   "execution_count": 1,
   "id": "7d2bc53c-df87-4395-adb1-3d2758cb1123",
   "metadata": {},
   "outputs": [],
   "source": [
    "\"\"\"Q1. Which keyword is used to create a function? Create a function to return a list of odd numbers in the\n",
    "range of 1 to 25.\"\"\"\n",
    "#Ans.:The keyword used to create a function in Python is 'def'. Here's an example of a function that returns a list of odd numbers in the range of 1 to 25:\n",
    "def odd_numbers():\n",
    "    odd_nums = []\n",
    "    for i in range(1, 26):\n",
    "        if i % 2 != 0:\n",
    "            odd_nums.append(i)\n",
    "    return odd_nums\n"
   ]
  },
  {
   "cell_type": "code",
   "execution_count": 2,
   "id": "4de53cf8-c61b-4015-b126-cf9ec08d983a",
   "metadata": {},
   "outputs": [],
   "source": [
    "\"\"\"Q2. Why *args and **kwargs is used in some functions? Create a function each for *args and **kwargs\n",
    "to demonstrate their use.\n",
    "Ans.:*args and **kwargs are special syntax in Python used in function definitions to pass a varying number of arguments to a function.\n",
    "\n",
    "*args is used to pass a variable number of non-keyworded arguments to a function. The arguments are passed as a tuple, and the asterisk (*) before args allows for any number of arguments to be passed into the function.\"\"\"\n",
    "def print_args(*args):\n",
    "    for arg in args:\n",
    "        print(arg)\n",
    "\n",
    "\"\"\"**kwargs, on the other hand, is used to pass a variable number of keyword arguments to a function. The arguments are passed as a dictionary, and the double asterisk (**) before kwargs allows for any number of keyword arguments to be passed into the function.\"\"\"\n",
    "def print_kwargs(**kwargs):\n",
    "    for key, value in kwargs.items():\n",
    "        print(f'{key}: {value}')\n"
   ]
  },
  {
   "cell_type": "code",
   "execution_count": 3,
   "id": "4b52621a-032f-414d-b63e-08ce3fecac38",
   "metadata": {},
   "outputs": [
    {
     "name": "stdout",
     "output_type": "stream",
     "text": [
      "2\n",
      "4\n",
      "6\n",
      "8\n",
      "10\n"
     ]
    }
   ],
   "source": [
    "\"\"\"Q3.  What is an iterator in python? Name the method used to initialise the iterator object and the method\n",
    "used for iteration. Use these methods to print the first five elements of the given list [2, 4, 6, 8, 10, 12, 14,\n",
    "16, 18, 20].\n",
    "Ans.:An iterator in Python is an object that can be iterated (looped) upon. It is used to represent a stream of data that can be accessed one element at a time without having to store the entire stream in memory.\n",
    "\n",
    "In Python, an iterator object must implement two methods: __iter__() and __next__(). The __iter__() method initializes the iterator object and returns the object itself, while the __next__() method returns the next value in the stream of data.\n",
    "\n",
    "Here's an example of how to create an iterator for the given list and use it to print the first five elements:\"\"\"\n",
    "\n",
    "my_list = [2, 4, 6, 8, 10, 12, 14, 16, 18, 20]\n",
    "my_iter = iter(my_list)\n",
    "for i in range(5):\n",
    "    print(next(my_iter))\n"
   ]
  },
  {
   "cell_type": "code",
   "execution_count": null,
   "id": "fcfd364e-d226-414a-b2fa-a418632895eb",
   "metadata": {},
   "outputs": [],
   "source": [
    "\"\"\"Q4.  What is a generator function in python? Why yield keyword is used? Give an example of a generator\n",
    "function.\n",
    "Ans.:\n",
    "In Python, a generator function is a special type of function that generates an iterator object using the yield keyword instead of the return keyword. A generator function allows you to iterate over a sequence of values without \n",
    "generating the entire sequence in memory at once. Instead, it generates values on-the-fly as you iterate over them, which can be more memory-efficient and faster than creating a list or other data structure to hold all the values.\n",
    "The 'yield' keyword is used in a generator function to indicate where the generator should pause and return a value to the caller, preserving the current state of the generator function. When the generator is resumed, it continues\n",
    "execution from where it left off, using the saved state to generate the next value in the sequence.\n",
    "\n",
    "Example.:\n",
    "def fibonacci():\n",
    "    a, b = 0, 1\n",
    "    while True:\n",
    "        yield a\n",
    "        a, b = b, a + b"
   ]
  },
  {
   "cell_type": "code",
   "execution_count": 1,
   "id": "35d3921f-9b1c-4db1-918f-3c8b52351d9f",
   "metadata": {},
   "outputs": [
    {
     "name": "stdout",
     "output_type": "stream",
     "text": [
      "2\n",
      "3\n",
      "5\n",
      "7\n",
      "11\n",
      "13\n",
      "17\n",
      "19\n",
      "23\n",
      "29\n",
      "31\n",
      "37\n",
      "41\n",
      "43\n",
      "47\n",
      "53\n",
      "59\n",
      "61\n",
      "67\n",
      "71\n"
     ]
    }
   ],
   "source": [
    "\"\"\"Q5. Create a generator function for prime numbers less than 1000. Use the next() method to print the\n",
    "first 20 prime numbers.\n",
    "Ans.:\"\"\"\n",
    "def generate_primes():\n",
    "    primes = []\n",
    "    num = 2\n",
    "    while num < 1000:\n",
    "        is_prime = True\n",
    "        for prime in primes:\n",
    "            if num % prime == 0:\n",
    "                is_prime = False\n",
    "                break\n",
    "        if is_prime:\n",
    "            primes.append(num)\n",
    "            yield num\n",
    "        num += 1\n",
    "\n",
    "prime_generator = generate_primes()\n",
    "\n",
    "for i in range(20):\n",
    "    print(next(prime_generator))\n"
   ]
  },
  {
   "cell_type": "code",
   "execution_count": 2,
   "id": "c8301713-3798-47e4-a271-d9e660c88ab2",
   "metadata": {},
   "outputs": [
    {
     "name": "stdout",
     "output_type": "stream",
     "text": [
      "0\n",
      "1\n",
      "1\n",
      "2\n",
      "3\n",
      "5\n",
      "8\n",
      "13\n",
      "21\n",
      "34\n"
     ]
    }
   ],
   "source": [
    "\"\"\"Q6. Write a python program to print the first 10 Fibonacci numbers using a while loop.\n",
    "Ans.:\"\"\"\n",
    "a = 0\n",
    "b = 1\n",
    "count = 0\n",
    "\n",
    "while count < 10:\n",
    "    print(a)\n",
    "    c = a + b\n",
    "    a = b\n",
    "    b = c\n",
    "    count += 1\n"
   ]
  },
  {
   "cell_type": "code",
   "execution_count": null,
   "id": "e4ce54f3-4724-4092-b7b9-e13961f243bb",
   "metadata": {},
   "outputs": [],
   "source": [
    "\"\"\"Q7. Write a List Comprehension to iterate through the given string: ‘pwskills’.\n",
    "Expected output: ['p', 'w', 's', 'k', 'i', 'l', 'l', 's'] \n",
    "Ans.:\"\"\"\n",
    "string = 'pwskills'\n",
    "result = [char for char in string if char in 'pwskill']\n",
    "print(result)\n"
   ]
  },
  {
   "cell_type": "code",
   "execution_count": 3,
   "id": "7d9846fc-d269-4675-ba46-ab81ef40b997",
   "metadata": {},
   "outputs": [
    {
     "name": "stdin",
     "output_type": "stream",
     "text": [
      "Enter a number:  45\n"
     ]
    },
    {
     "name": "stdout",
     "output_type": "stream",
     "text": [
      "45 is not a palindrome\n"
     ]
    }
   ],
   "source": [
    "\"\"\"Q8. Write a python program to check whether a given number is Palindrome or not using a while loop.\n",
    "Ans.:\"\"\"\n",
    "num = int(input(\"Enter a number: \"))\n",
    "temp = num\n",
    "reverse_num = 0\n",
    "\n",
    "while temp > 0:\n",
    "    digit = temp % 10\n",
    "    reverse_num = reverse_num * 10 + digit\n",
    "    temp = temp // 10\n",
    "\n",
    "if num == reverse_num:\n",
    "    print(num, \"is a palindrome\")\n",
    "else:\n",
    "    print(num, \"is not a palindrome\")\n"
   ]
  },
  {
   "cell_type": "code",
   "execution_count": 4,
   "id": "3efad70e-74e3-46b2-a0e3-bf36e7b631b7",
   "metadata": {},
   "outputs": [
    {
     "name": "stdout",
     "output_type": "stream",
     "text": [
      "[1, 3, 5, 7, 9, 11, 13, 15, 17, 19, 21, 23, 25, 27, 29, 31, 33, 35, 37, 39, 41, 43, 45, 47, 49, 51, 53, 55, 57, 59, 61, 63, 65, 67, 69, 71, 73, 75, 77, 79, 81, 83, 85, 87, 89, 91, 93, 95, 97, 99]\n"
     ]
    }
   ],
   "source": [
    "\"\"\"Q9. Write a code to print odd numbers from 1 to 100 using list comprehension.\n",
    "Ans.:\"\"\"\n",
    "odd_numbers = [num for num in range(1, 101) if num % 2 != 0]\n",
    "print(odd_numbers)\n"
   ]
  },
  {
   "cell_type": "code",
   "execution_count": null,
   "id": "a9405a12-465d-4114-9da2-af3564a27aa9",
   "metadata": {},
   "outputs": [],
   "source": []
  }
 ],
 "metadata": {
  "kernelspec": {
   "display_name": "Python 3 (ipykernel)",
   "language": "python",
   "name": "python3"
  },
  "language_info": {
   "codemirror_mode": {
    "name": "ipython",
    "version": 3
   },
   "file_extension": ".py",
   "mimetype": "text/x-python",
   "name": "python",
   "nbconvert_exporter": "python",
   "pygments_lexer": "ipython3",
   "version": "3.10.8"
  }
 },
 "nbformat": 4,
 "nbformat_minor": 5
}
