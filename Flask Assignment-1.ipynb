{
 "cells": [
  {
   "cell_type": "code",
   "execution_count": null,
   "id": "0691ecb0-ed33-496c-b018-3d83c2c57907",
   "metadata": {},
   "outputs": [],
   "source": [
    "\"\"\"Q1. What is Flask Framework? What are the advantages of Flask Framework?\n",
    "Ans.: Flask is a lightweight web application framework for Python. It is designed to make it easy to develop web applications quickly and with minimal\n",
    "code. Flask is based on the Werkzeug toolkit and the Jinja2 template engine, both of which are also written in Python.\n",
    "\n",
    "Advantages of using Flask framework include:\n",
    "\n",
    "Lightweight: Flask is a micro-framework and is therefore lightweight, making it ideal for small to medium-sized web applications.\n",
    "Easy to use: Flask is easy to learn and use, making it a good choice for beginners who are just starting with web development.\n",
    "Flexible: Flask is flexible and can be easily customized to meet the specific needs of your application.\n",
    "Scalable: Flask can be scaled up or down depending on the size and complexity of your application.\n",
    "Modular: Flask is modular and comes with built-in support for extensions, which can be used to add additional functionality to your application.\n",
    "Good documentation: Flask has excellent documentation, which makes it easy to learn and use.\n",
    "Active community: Flask has an active community of developers who contribute to its development and provide support to users.\n",
    "\n",
    "Overall, Flask is a great choice for building web applications in Python, especially for small to medium-sized projects. Its simplicity, flexibility, \n",
    "and scalability make it a popular choice among developers.\"\"\""
   ]
  },
  {
   "cell_type": "code",
   "execution_count": null,
   "id": "873acc0f-a38c-457d-90f0-0d1ec9c671df",
   "metadata": {},
   "outputs": [],
   "source": [
    "\"\"\"Q2. Create a simple Flask application to display ‘Hello World!!’. Attach the screenshot of the output in\n",
    "Jupyter Notebook.\n",
    "Ans.: \"\"\"\n",
    "\n",
    "from flask import Flask\n",
    "\n",
    "app = Flask(__name__)\n",
    "\n",
    "@app.route('/')\n",
    "def hello():\n",
    "    return 'Hello World!!'\n",
    "\n",
    "if __name__ == '__main__':\n",
    "    app.run()\n"
   ]
  },
  {
   "cell_type": "code",
   "execution_count": null,
   "id": "f57b0031-b9f6-481f-91c0-6b2e5aa04938",
   "metadata": {},
   "outputs": [],
   "source": [
    "\"\"\"Q3. What is App routing in Flask? Why do we use app routes?\n",
    "Ans.: In Flask, app routing refers to the process of mapping URLs to their corresponding handler functions in the application. It is used to define \n",
    "the URLs or routes that the application will respond to, and the functions that will be executed when those URLs are accessed.\n",
    "\n",
    "App routes in Flask are used for several reasons:\n",
    "\n",
    "Handling user requests: App routes allow the application to handle user requests and respond with appropriate data.\n",
    "URL generation: App routes can be used to generate URLs for specific functions or views within the application.\n",
    "Separation of concerns: App routes help to separate concerns in the application by allowing developers to define specific functions for handling\n",
    "different parts of the application.\n",
    "Modular design: App routes allow for modular design of the application, making it easier to add new features or make changes without affecting the \n",
    "rest of the application.\n",
    "RESTful API development: App routes can be used to define a RESTful API for the application, allowing other applications to access and use its \n",
    "resources.\n",
    "\n",
    "In summary, app routing in Flask is an essential component for building web applications, as it defines how the application will handle user requests \n",
    "nd generate appropriate responses. It allows for a modular and scalable design of the application, making it easier to maintain and update over time."
   ]
  },
  {
   "cell_type": "code",
   "execution_count": null,
   "id": "dde09c11-471c-463f-ad0b-2f6c15c1dcd9",
   "metadata": {},
   "outputs": [],
   "source": [
    "\"\"\"Q4. Create a “/welcome” route to display the welcome message “Welcome to ABC Corporation” and a “/”\n",
    "route to show the following details:\n",
    "Company Name: ABC Corporation\n",
    "Location: India\n",
    "Contact Detail: 999-999-9999\n",
    "Ans.: \"\"\"\n",
    "\n",
    "from flask import Flask\n",
    "\n",
    "app = Flask(__name__)\n",
    "\n",
    "@app.route('/welcome')\n",
    "def welcome():\n",
    "    return 'Welcome to ABC Corporation'\n",
    "\n",
    "@app.route('/')\n",
    "def details():\n",
    "    return 'Company Name: ABC Corporation <br> Location: India <br> Contact Detail: 999-999-9999'\n",
    "\n",
    "if __name__ == '__main__':\n",
    "    app.run()\n"
   ]
  },
  {
   "cell_type": "code",
   "execution_count": null,
   "id": "6a873465-669d-4ebf-b245-2a70948c02f4",
   "metadata": {},
   "outputs": [],
   "source": [
    "\"\"\"Q5. What function is used in Flask for URL Building? Write a Python code to demonstrate the working of the\n",
    "url_for() function.\n",
    "Ans.: In Flask, the url_for() function is used for URL building. It is a function that generates a URL for the specified endpoint with the given \n",
    "method. It takes the endpoint name as the first argument and any additional keyword arguments as per the endpoint requirements.\n",
    "\n",
    "an example of how to use the url_for() function in Flask:\"\"\"\n",
    "from flask import Flask, url_for\n",
    "\n",
    "app = Flask(__name__)\n",
    "\n",
    "@app.route('/hello')\n",
    "def hello():\n",
    "    return 'Hello, World!'\n",
    "\n",
    "@app.route('/user/<username>')\n",
    "def show_user_profile(username):\n",
    "    return 'User %s' % username\n",
    "\n",
    "@app.route('/post/<int:post_id>')\n",
    "def show_post(post_id):\n",
    "    return 'Post %d' % post_id\n",
    "\n",
    "@app.route('/url_for_example')\n",
    "def url_for_example():\n",
    "    return url_for('hello')\n",
    "\n",
    "if __name__ == '__main__':\n",
    "    app.run()\n"
   ]
  }
 ],
 "metadata": {
  "kernelspec": {
   "display_name": "Python 3 (ipykernel)",
   "language": "python",
   "name": "python3"
  },
  "language_info": {
   "codemirror_mode": {
    "name": "ipython",
    "version": 3
   },
   "file_extension": ".py",
   "mimetype": "text/x-python",
   "name": "python",
   "nbconvert_exporter": "python",
   "pygments_lexer": "ipython3",
   "version": "3.10.8"
  }
 },
 "nbformat": 4,
 "nbformat_minor": 5
}
