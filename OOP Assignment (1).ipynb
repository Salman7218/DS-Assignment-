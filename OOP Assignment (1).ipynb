{
 "cells": [
  {
   "cell_type": "code",
   "execution_count": null,
   "id": "92a44718-15f8-462d-b16a-322259e7cdd3",
   "metadata": {},
   "outputs": [],
   "source": [
    "Q1. What is Abstraction in OOps? Explain with an example.\n",
    "Ans.: Abstraction in Object-Oriented Programming (OOPs) is a concept that allows you to focus on the essential features of \n",
    "an object, while hiding the unnecessary details. In other words, it is a way to represent complex real-world systems by \n",
    "modeling only the relevant aspects of that system.\n",
    "\n",
    "An example of abstraction is a car dashboard. A car dashboard displays \n",
    "only the most essential information a driver needs, such as speedometer, fuel gauge, and warning lights. It abstracts away\n",
    "the complex internal workings of the car's engine, transmission, and other systems, and presents only the information that \n",
    "the driver needs to operate the car safely."
   ]
  },
  {
   "cell_type": "code",
   "execution_count": null,
   "id": "e5e959e7-1bf8-4ca4-bda3-a0772d8f5f51",
   "metadata": {},
   "outputs": [],
   "source": [
    "Q2. Differentiate between Abstraction and Encapsulation. Explain with an example.\n",
    "Ans.: Abstraction and Encapsulation are two important concepts in Object-Oriented Programming (OOPs) that are often confused \n",
    "with each other. Though they share some similarities, they are different in terms of their purpose and implementation.\n",
    "\n",
    "Abstraction: In this case, abstraction would involve modeling only the essential features of an employee, such as their name, \n",
    "job title, and salary. We can create an abstract class called \"Person\" that represents a person's name and age, and have the \n",
    "\"Employee\" class inherit from it. This way, we can abstract away the details of an employee's salary calculation and focus only\n",
    "on their name and job title, which are relevant for most operations.\n",
    "\n",
    "Encapsulation: Encapsulation in this case would involve bundling the data and methods that operate on that data into a single \n",
    "unit and restricting access to that unit from outside. We can achieve this by making the properties and methods of the \"Employee\" \n",
    "class private and providing public methods like \"getSalary\" and \"setSalary\" to access and modify the salary property. This way, \n",
    "we can protect the internal state of an employee's salary from external interference and ensure its consistency and integrity."
   ]
  },
  {
   "cell_type": "code",
   "execution_count": null,
   "id": "0b421fb7-0872-4440-a1b0-7f8494b12dff",
   "metadata": {},
   "outputs": [],
   "source": [
    "Q3. What is abc module in python? Why is it used?\n",
    "Ans.:The 'abc' module in Python stands for Abstract Base Classes. It is a module that provides the infrastructure for \n",
    "defining abstract base classes (ABCs) in Python.\n",
    "The abc module is used to enforce a certain level of structure and consistency in a set of related classes. By defining abstract \n",
    "base classes and requiring concrete classes to implement certain methods and properties, the module helps ensure that these classes \n",
    "behave in a predictable and consistent way. It also makes it easier to write code that works with a set of related classes, without \n",
    "having to know the specifics of each individual class."
   ]
  },
  {
   "cell_type": "code",
   "execution_count": null,
   "id": "f513cc7b-d5de-4503-91a5-4e8664256a48",
   "metadata": {},
   "outputs": [],
   "source": [
    "Q4. How can we achieve data abstraction?\n",
    "Ans.:Data abstraction can be achieved in several ways, depending on the programming language and the specific requirements of \n",
    "the system being developed. Here are a few common ways to achieve data abstraction:\n",
    "    1.Classes and Objects: One common way to achieve data abstraction is through classes and objects in an Object-Oriented Programming \n",
    "    (OOP) language like Python or Java. Classes can define properties and methods that represent the essential features of an object, \n",
    "    while hiding the details of its implementation. Objects can then be instantiated from these classes, allowing users to interact \n",
    "    with the essential features of the object without needing to know the details of its internal workings.\n",
    "    \n",
    "    2.Abstract Data Types (ADTs): Abstract Data Types are data types that are defined by their behavior rather than their implementation. \n",
    "    They can be used to encapsulate data and operations into a single unit, providing a clear interface for users to interact with the data.\n",
    "    For example, in Python, the collections module provides several built-in ADTs like deque, Counter, and defaultdict.\n",
    "    \n",
    "    3.Interfaces: Interfaces are contracts that specify the methods and properties that a class must implement. They provide a level of \n",
    "    abstraction by defining the behavior of a class without specifying its implementation details. Interfaces can be used in languages \n",
    "    like Java and C# to achieve data abstraction.\n",
    "    \n",
    "    4.Data Hiding: Data hiding involves hiding the implementation details of a class and providing a public interface for accessing and \n",
    "    modifying the data. This can be achieved using techniques like encapsulation and access modifiers (e.g., public, private, protected)."
   ]
  },
  {
   "cell_type": "code",
   "execution_count": null,
   "id": "0c35d62f-7865-4b03-8c84-0c91f125cec8",
   "metadata": {},
   "outputs": [],
   "source": [
    "Q5. Can we create an instance of an abstract class? Explain your answer.\n",
    "Ans.: "
   ]
  }
 ],
 "metadata": {
  "kernelspec": {
   "display_name": "Python 3 (ipykernel)",
   "language": "python",
   "name": "python3"
  },
  "language_info": {
   "codemirror_mode": {
    "name": "ipython",
    "version": 3
   },
   "file_extension": ".py",
   "mimetype": "text/x-python",
   "name": "python",
   "nbconvert_exporter": "python",
   "pygments_lexer": "ipython3",
   "version": "3.10.8"
  }
 },
 "nbformat": 4,
 "nbformat_minor": 5
}
