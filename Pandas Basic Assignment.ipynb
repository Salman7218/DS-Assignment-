{
 "cells": [
  {
   "cell_type": "code",
   "execution_count": 1,
   "id": "cbd30664-4f6a-4ca4-99d6-a4a05cbbc1e4",
   "metadata": {},
   "outputs": [
    {
     "name": "stdout",
     "output_type": "stream",
     "text": [
      "0     4\n",
      "1     8\n",
      "2    15\n",
      "3    16\n",
      "4    23\n",
      "5    42\n",
      "dtype: int64\n"
     ]
    }
   ],
   "source": [
    "\"\"\"Q1. Create a Pandas Series that contains the following data: 4, 8, 15, 16, 23, and 42. Then, print the series.\n",
    "Ans.\"\"\"\n",
    "\n",
    "import pandas as pd\n",
    "\n",
    "# Create a Pandas Series\n",
    "my_series = pd.Series([4, 8, 15, 16, 23, 42])\n",
    "\n",
    "# Print the Series\n",
    "print(my_series)\n"
   ]
  },
  {
   "cell_type": "code",
   "execution_count": 2,
   "id": "3c812f12-e225-4068-a999-73340c270dff",
   "metadata": {},
   "outputs": [
    {
     "name": "stdout",
     "output_type": "stream",
     "text": [
      "0     2\n",
      "1     4\n",
      "2     6\n",
      "3     8\n",
      "4    10\n",
      "5    12\n",
      "6    14\n",
      "7    16\n",
      "8    18\n",
      "9    20\n",
      "dtype: int64\n"
     ]
    }
   ],
   "source": [
    "\"\"\"Q2. Create a variable of list type containing 10 elements in it, and apply pandas.Series function on the\n",
    "variable print it.\n",
    "Ans.\"\"\"\n",
    "\n",
    "import pandas as pd\n",
    "\n",
    "my_list = [2, 4, 6, 8, 10, 12, 14, 16, 18, 20]\n",
    "my_series = pd.Series(my_list)\n",
    "\n",
    "print(my_series)\n"
   ]
  },
  {
   "cell_type": "code",
   "execution_count": 3,
   "id": "233b5a57-3a0a-4c61-aa17-818d55d58c54",
   "metadata": {},
   "outputs": [
    {
     "name": "stdout",
     "output_type": "stream",
     "text": [
      "     Name  Age  Gender\n",
      "0   Alice   25  Female\n",
      "1     Bob   30    Male\n",
      "2  Claire   27  Female\n"
     ]
    }
   ],
   "source": [
    "\"\"\"Q3. Create a Pandas DataFrame that contains the following data:\n",
    "\n",
    "Then, print the DataFrame.\"\"\"\n",
    "\n",
    "import pandas as pd\n",
    "\n",
    "# Create a dictionary with the data\n",
    "data = {\n",
    "    'Name': ['Alice', 'Bob', 'Claire'],\n",
    "    'Age': [25, 30, 27],\n",
    "    'Gender': ['Female', 'Male', 'Female']\n",
    "}\n",
    "\n",
    "# Create a Pandas DataFrame\n",
    "my_df = pd.DataFrame(data)\n",
    "\n",
    "# Print the DataFrame\n",
    "print(my_df)\n"
   ]
  },
  {
   "cell_type": "code",
   "execution_count": 4,
   "id": "041d093b-3a01-409f-ac51-416da2a668fc",
   "metadata": {},
   "outputs": [
    {
     "name": "stdout",
     "output_type": "stream",
     "text": [
      "     Name  Age  Gender\n",
      "0   Alice   25  Female\n",
      "1     Bob   30    Male\n",
      "2  Claire   27  Female\n",
      "\n",
      "\n",
      "0    25\n",
      "1    30\n",
      "2    27\n",
      "Name: Age, dtype: int64\n"
     ]
    }
   ],
   "source": [
    "\"\"\"Q4. What is ‘DataFrame’ in pandas and how is it different from pandas.series? Explain with an example.\n",
    "Ans.:in Pandas, a DataFrame is a 2-dimensional labeled data structure that can hold data of different types in columns. It is similar to a \n",
    "spreadsheet or a SQL table, where each column can have a different data type (e.g., integer, float, string, etc.) and each row represents\n",
    "an observation or record. A DataFrame can be thought of as a collection of Pandas Series that share the same index.\n",
    "\n",
    "On the other hand, a Pandas Series is a 1-dimensional labeled array that can hold data of the same type \n",
    "(e.g., integer, float, string, etc.). It can be thought of as a single column in a DataFrame.\n",
    "\n",
    "Here's an example to illustrate the difference between a Pandas DataFrame and a Pandas Series:\"\"\"\n",
    "\n",
    "import pandas as pd\n",
    "\n",
    "# Create a dictionary with data for a DataFrame\n",
    "data = {\n",
    "    'Name': ['Alice', 'Bob', 'Claire'],\n",
    "    'Age': [25, 30, 27],\n",
    "    'Gender': ['Female', 'Male', 'Female']\n",
    "}\n",
    "\n",
    "# Create a Pandas DataFrame from the dictionary\n",
    "my_df = pd.DataFrame(data)\n",
    "\n",
    "# Create a Pandas Series from the 'Age' column of the DataFrame\n",
    "my_series = my_df['Age']\n",
    "\n",
    "# Print the DataFrame and the Series\n",
    "print(my_df)\n",
    "print('\\n')\n",
    "print(my_series)\n"
   ]
  },
  {
   "cell_type": "code",
   "execution_count": 5,
   "id": "a648eb2f-0ecd-431c-a991-d7e5d2c2a175",
   "metadata": {},
   "outputs": [
    {
     "name": "stdout",
     "output_type": "stream",
     "text": [
      "Product\n",
      "A    300\n",
      "B    700\n",
      "C    520\n",
      "Name: Sales, dtype: int64\n"
     ]
    }
   ],
   "source": [
    "\"\"\"Q5. What are some common functions you can use to manipulate data in a Pandas DataFrame? Can\n",
    "you give an example of when you might use one of these functions?\n",
    "Ans.:Pandas provides a wide range of functions for manipulating data in a DataFrame. Here are some common functions:\n",
    "\n",
    "head() and tail(): These functions return the first or last n rows of a DataFrame, respectively. They are often used to quickly inspect \n",
    "the structure and contents of a DataFrame.\n",
    "\n",
    "info() and describe(): These functions provide summary information about the DataFrame, such as column names, data types, number of \n",
    "non-null values, mean, standard deviation, minimum and maximum values, etc.\n",
    "\n",
    "sort_values(): This function sorts the DataFrame by one or more columns in ascending or descending order. It is often used to reorder \n",
    "the rows of the DataFrame based on certain criteria.\n",
    "\n",
    "groupby(): This function groups the rows of the DataFrame based on one or more columns and applies a function to each group. It is often \n",
    "used to aggregate or summarize data by category.\n",
    "\n",
    "drop(): This function removes one or more columns or rows from the DataFrame. It is often used to remove irrelevant or redundant data \n",
    "from the DataFrame.\n",
    "\n",
    "fillna(): This function fills missing or null values in the DataFrame with a specified value or method. It is often used to handle missing\n",
    "data in a meaningful way.\n",
    "\n",
    "apply(): This function applies a function to each element or row of the DataFrame. It is often used to transform or manipulate the data \n",
    "in a customized way.\n",
    "\n",
    "For example, let's say we have a DataFrame sales with sales data for different products and regions, and we want to calculate the total \n",
    "sales for each product. We can use the groupby() function to group the data by product name, and then apply the sum() function to the \n",
    "'Sales' column to get the total sales for each product:\"\"\"\n",
    "import pandas as pd\n",
    "\n",
    "# Create a sample DataFrame\n",
    "data = {\n",
    "    'Product': ['A', 'A', 'B', 'B', 'B', 'C', 'C', 'C'],\n",
    "    'Region': ['North', 'South', 'East', 'West', 'North', 'East', 'West', 'North'],\n",
    "    'Sales': [100, 200, 150, 250, 300, 120, 180, 220]\n",
    "}\n",
    "sales = pd.DataFrame(data)\n",
    "\n",
    "# Group the data by product name and calculate the total sales\n",
    "total_sales = sales.groupby('Product')['Sales'].sum()\n",
    "\n",
    "print(total_sales)\n"
   ]
  },
  {
   "cell_type": "code",
   "execution_count": null,
   "id": "6d34e49f-d636-4b4c-a799-cf8dec5d95e9",
   "metadata": {},
   "outputs": [],
   "source": [
    "\"\"\"Q6. Which of the following is mutable in nature Series, DataFrame, Panel?\n",
    "Ans.:In Pandas, Series and DataFrame are mutable objects, while Panel is deprecated since version 0.25.0 and replaced with the MultiIndex \n",
    "objects.\n",
    "\n",
    "A mutable object is an object whose content can be changed after creation. In other words, if we modify a mutable object, its memory \n",
    "address remains the same. For example, we can add, delete or update elements in a Series or a DataFrame.\n",
    "\n",
    "In contrast, an immutable object is an object whose content cannot be changed after creation. In other words, if we modify an immutable \n",
    "object, a new memory address is created for the modified object. Examples of immutable objects include strings, tuples, and frozensets.\"\"\""
   ]
  },
  {
   "cell_type": "code",
   "execution_count": 6,
   "id": "2702eb58-6995-4940-a062-f472c4f0b9d2",
   "metadata": {},
   "outputs": [
    {
     "name": "stdout",
     "output_type": "stream",
     "text": [
      "     Name  Age  Gender\n",
      "0   Alice   25  Female\n",
      "1     Bob   30    Male\n",
      "2  Claire   27  Female\n"
     ]
    }
   ],
   "source": [
    "\"\"\"Q7. Create a DataFrame using multiple Series. Explain with an example.\n",
    "Ans.: In Pandas, Series and DataFrame are mutable objects, while Panel is deprecated since version 0.25.0 and replaced with the MultiIndex \n",
    "objects.\n",
    "\n",
    "A mutable object is an object whose content can be changed after creation. In other words, if we modify a mutable object, its memory \n",
    "address remains the same. For example, we can add, delete or update elements in a Series or a DataFrame.\n",
    "\n",
    "In contrast, an immutable object is an object whose content cannot be changed after creation. In other words, if we modify an immutable \n",
    "object, a new memory address is created for the modified object. Examples of immutable objects include strings, tuples, and frozensets.\"\"\"\n",
    "\n",
    "import pandas as pd\n",
    "\n",
    "# Create three Series objects\n",
    "names = pd.Series(['Alice', 'Bob', 'Claire'])\n",
    "ages = pd.Series([25, 30, 27])\n",
    "genders = pd.Series(['Female', 'Male', 'Female'])\n",
    "\n",
    "# Create a DataFrame using the three Series objects\n",
    "df = pd.DataFrame({'Name': names, 'Age': ages, 'Gender': genders})\n",
    "\n",
    "# Print the DataFrame\n",
    "print(df)\n"
   ]
  },
  {
   "cell_type": "code",
   "execution_count": null,
   "id": "5d985898-37d3-467e-bd5e-b0b77accad0b",
   "metadata": {},
   "outputs": [],
   "source": []
  }
 ],
 "metadata": {
  "kernelspec": {
   "display_name": "Python 3 (ipykernel)",
   "language": "python",
   "name": "python3"
  },
  "language_info": {
   "codemirror_mode": {
    "name": "ipython",
    "version": 3
   },
   "file_extension": ".py",
   "mimetype": "text/x-python",
   "name": "python",
   "nbconvert_exporter": "python",
   "pygments_lexer": "ipython3",
   "version": "3.10.8"
  }
 },
 "nbformat": 4,
 "nbformat_minor": 5
}
