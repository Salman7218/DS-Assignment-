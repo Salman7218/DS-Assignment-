{
 "cells": [
  {
   "cell_type": "code",
   "execution_count": null,
   "id": "3024e891-cb4a-4adc-b416-148d0dc6bebf",
   "metadata": {},
   "outputs": [],
   "source": [
    "\"\"\"Q1. What is an Exception in python? Write the different between Exception and syntax error.\n",
    "Ans.;In Python, an Exception is an event that occurs during the execution of a program that disrupts the normal flow of instructions. \n",
    "When an Exception occurs, the interpreter stops the execution of the program and generates an error message that provides information\n",
    "about the type of Exception and where it occurred in the code.\n",
    "\n",
    "Exceptions in Python can be of various types, such as ZeroDivisionError, TypeError, ValueError, etc. These are raised by the interpreter \n",
    "or by built-in functions and modules.\n",
    "\n",
    "Syntax Error, on the other hand, is an error that occurs when the Python interpreter cannot understand the code due to syntax issues. \n",
    "Syntax errors occur when the programmer makes mistakes in the syntax of the code, such as a missing parenthesis or a misspelled keyword. \n",
    "The interpreter reports a Syntax Error and points out the location in the code where it occurred.\n",
    "\n",
    "The main difference between Exceptions and Syntax Errors is that Exceptions are runtime errors that occur during program execution, \n",
    "while Syntax Errors are detected by the interpreter before the program is run.\"\"\""
   ]
  },
  {
   "cell_type": "code",
   "execution_count": 3,
   "id": "67cc5899-7dc5-4e2a-88d7-3183dc7e7a4e",
   "metadata": {},
   "outputs": [
    {
     "ename": "ZeroDivisionError",
     "evalue": "division by zero",
     "output_type": "error",
     "traceback": [
      "\u001b[0;31m---------------------------------------------------------------------------\u001b[0m",
      "\u001b[0;31mZeroDivisionError\u001b[0m                         Traceback (most recent call last)",
      "Cell \u001b[0;32mIn[3], line 7\u001b[0m\n\u001b[1;32m      1\u001b[0m \u001b[38;5;124;03m\"\"\"Q2. What happens when an exception is not handled? Explain with Example.\u001b[39;00m\n\u001b[1;32m      2\u001b[0m \u001b[38;5;124;03mAns.:In programming, an exception is an event that occurs during the execution of a program and disrupts the normal flow of the program. \u001b[39;00m\n\u001b[1;32m      3\u001b[0m \u001b[38;5;124;03mIf an exception is not handled, it can cause the program to terminate abruptly or produce unexpected results.\u001b[39;00m\n\u001b[1;32m      4\u001b[0m \u001b[38;5;124;03mFor example, let's consider the following code snippet in Python:\"\"\"\u001b[39;00m\n\u001b[1;32m      6\u001b[0m \u001b[38;5;28;01mtry\u001b[39;00m:\n\u001b[0;32m----> 7\u001b[0m     x \u001b[38;5;241m=\u001b[39m \u001b[38;5;241;43m5\u001b[39;49m\u001b[43m \u001b[49m\u001b[38;5;241;43m/\u001b[39;49m\u001b[43m \u001b[49m\u001b[38;5;241;43m0\u001b[39;49m  \u001b[38;5;66;03m# division by zero will raise an exception\u001b[39;00m\n\u001b[1;32m      8\u001b[0m \u001b[38;5;28;01mexcept\u001b[39;00m \u001b[38;5;167;01mValueError\u001b[39;00m:\n\u001b[1;32m      9\u001b[0m     \u001b[38;5;28mprint\u001b[39m(\u001b[38;5;124m\"\u001b[39m\u001b[38;5;124mOops! ValueError occurred.\u001b[39m\u001b[38;5;124m\"\u001b[39m)\n",
      "\u001b[0;31mZeroDivisionError\u001b[0m: division by zero"
     ]
    }
   ],
   "source": [
    "\"\"\"Q2. What happens when an exception is not handled? Explain with Example.\n",
    "Ans.:In programming, an exception is an event that occurs during the execution of a program and disrupts the normal flow of the program. \n",
    "If an exception is not handled, it can cause the program to terminate abruptly or produce unexpected results.\n",
    "For example, let's consider the following code snippet in Python:\"\"\"\n",
    "\n",
    "try:\n",
    "    x = 5 / 0  # division by zero will raise an exception\n",
    "except ValueError:\n",
    "    print(\"Oops! ValueError occurred.\")\n",
    "    \n",
    "\"\"\"In this code, we are trying to divide the number 5 by zero, which will result in a division by zero error, and Python will raise a \n",
    "ZeroDivisionError exception.In the above code, we are trying to handle the exception using a try-except block, and we have specified that \n",
    "if a ValueError occurs, then we will print an error message. However, we have not specified what should happen if any other type of \n",
    "exception occurs.\"\"\"\n"
   ]
  },
  {
   "cell_type": "code",
   "execution_count": null,
   "id": "30fc19c1-3cd0-4965-8999-1f9572443c6e",
   "metadata": {},
   "outputs": [
    {
     "name": "stdin",
     "output_type": "stream",
     "text": [
      "Enter a number:  45\n"
     ]
    },
    {
     "name": "stdout",
     "output_type": "stream",
     "text": [
      "The result is: 0.2222222222222222\n"
     ]
    },
    {
     "data": {
      "text/plain": [
       "\"In this example, we're asking the user to enter a number. We're then trying to divide 10 by the number entered, which could potentially \\nraise two types of exceptions: a ZeroDivisionError if the user enters 0, or a ValueError if the user enters something that cannot be \\nconverted to an integer.\\n\\nBy wrapping the code in a try block, we're telling Python that an exception might occur in this code. If an exception occurs, Python will \\nthen look for an appropriate except block to handle the exception. In this example, we've defined two except blocks: one for ZeroDivisionError \\nand one for ValueError. If an exception occurs, Python will check which type of exception it is and execute the corresponding except block.\\n\\nIf no exception occurs, the code in the try block will execute normally, and the code in any except blocks will be skipped.\\n\\nOverall, the try and except statements are an essential tool for handling exceptions in Python and can help make your code more robust \\nand reliable.\""
      ]
     },
     "execution_count": 2,
     "metadata": {},
     "output_type": "execute_result"
    }
   ],
   "source": [
    "\"\"\"Q3. Which python statements are use to catch and handle exception? Explain with Example.\n",
    "Ans.:In Python, you can catch and handle exceptions using the 'try' and 'except' statements. The try statement is used to define a block of \n",
    "code in which an exception might occur, while the except statement is used to define a block of code to handle the exception.\n",
    "\n",
    "Here's an example of how to use try and except statements to catch and handle an exception in Python:\"\"\"\n",
    "try:\n",
    "    x = int(input(\"Enter a number: \"))\n",
    "    y = 10 / x\n",
    "    print(\"The result is:\", y)\n",
    "except ZeroDivisionError:\n",
    "    print(\"Error: Cannot divide by zero\")\n",
    "except ValueError:\n",
    "    print(\"Error: Invalid input\")\n",
    "\n",
    "\"\"\"In this example, we're asking the user to enter a number. We're then trying to divide 10 by the number entered, which could potentially \n",
    "raise two types of exceptions: a ZeroDivisionError if the user enters 0, or a ValueError if the user enters something that cannot be \n",
    "converted to an integer.\n",
    "\n",
    "By wrapping the code in a try block, we're telling Python that an exception might occur in this code. If an exception occurs, Python will \n",
    "then look for an appropriate except block to handle the exception. In this example, we've defined two except blocks: one for ZeroDivisionError \n",
    "and one for ValueError. If an exception occurs, Python will check which type of exception it is and execute the corresponding except block.\n",
    "\n",
    "If no exception occurs, the code in the try block will execute normally, and the code in any except blocks will be skipped.\n",
    "\n",
    "Overall, the try and except statements are an essential tool for handling exceptions in Python and can help make your code more robust \n",
    "and reliable.\"\"\""
   ]
  },
  {
   "cell_type": "code",
   "execution_count": 4,
   "id": "c0524184-e1c2-4386-97fc-4a2340358297",
   "metadata": {},
   "outputs": [
    {
     "name": "stdin",
     "output_type": "stream",
     "text": [
      "Enter a number:  22\n"
     ]
    },
    {
     "name": "stdout",
     "output_type": "stream",
     "text": [
      "The result is: 0.45454545454545453\n",
      "Error: File not found\n"
     ]
    },
    {
     "ename": "NameError",
     "evalue": "name 'f' is not defined",
     "output_type": "error",
     "traceback": [
      "\u001b[0;31m---------------------------------------------------------------------------\u001b[0m",
      "\u001b[0;31mNameError\u001b[0m                                 Traceback (most recent call last)",
      "Cell \u001b[0;32mIn[4], line 27\u001b[0m\n\u001b[1;32m     25\u001b[0m     \u001b[38;5;28mprint\u001b[39m(\u001b[38;5;124m\"\u001b[39m\u001b[38;5;124mError: File not found\u001b[39m\u001b[38;5;124m\"\u001b[39m)\n\u001b[1;32m     26\u001b[0m \u001b[38;5;28;01mfinally\u001b[39;00m:\n\u001b[0;32m---> 27\u001b[0m     \u001b[43mf\u001b[49m\u001b[38;5;241m.\u001b[39mclose()\n\u001b[1;32m     29\u001b[0m \u001b[38;5;124;03m\"\"\"In this example, we're trying to open and read a file, which could potentially raise a FileNotFoundError if the file doesn't exist.\u001b[39;00m\n\u001b[1;32m     30\u001b[0m \u001b[38;5;124;03mThe finally block will always execute, regardless of whether an exception occurs, and it's used to close the file handle to prevent any\u001b[39;00m\n\u001b[1;32m     31\u001b[0m \u001b[38;5;124;03mresource leaks.\u001b[39;00m\n\u001b[1;32m     32\u001b[0m \n\u001b[1;32m     33\u001b[0m \u001b[38;5;124;03m3. Raise\u001b[39;00m\n\u001b[1;32m     34\u001b[0m \u001b[38;5;124;03mThe raise statement can be used to raise an exception manually in your code. Here's an example:\"\"\"\u001b[39;00m\n\u001b[1;32m     35\u001b[0m x \u001b[38;5;241m=\u001b[39m \u001b[38;5;241m-\u001b[39m\u001b[38;5;241m1\u001b[39m\n",
      "\u001b[0;31mNameError\u001b[0m: name 'f' is not defined"
     ]
    }
   ],
   "source": [
    "\"\"\"Q4. Explain with an example. try and else, finally , raise.\n",
    "Ans.:1. try and else:\n",
    "The else statement can be used with try to define a block of code that will only be executed if no exception occurs. \n",
    "Here's an example:\"\"\"\n",
    "\n",
    "try:\n",
    "    x = int(input(\"Enter a number: \"))\n",
    "    y = 10 / x\n",
    "except ZeroDivisionError:\n",
    "    print(\"Error: Cannot divide by zero\")\n",
    "else:\n",
    "    print(\"The result is:\", y)\n",
    "\n",
    "\"\"\"In this example, if the user enters 0 as the input, a ZeroDivisionError will occur, and the corresponding except block will execute. \n",
    "If the user enters a non-zero value, the try block will execute, and the else block will execute afterward, printing the result.\n",
    "\n",
    "2. Finally\n",
    "The finally statement can be used with try to define a block of code that will always be executed, regardless of whether an exception \n",
    "occurs or not. Here's an example:\"\"\"\n",
    "\n",
    "try:\n",
    "    f = open(\"example.txt\", \"r\")\n",
    "    print(f.read())\n",
    "except FileNotFoundError:\n",
    "    print(\"Error: File not found\")\n",
    "finally:\n",
    "    f.close()\n",
    "    \n",
    "\"\"\"In this example, we're trying to open and read a file, which could potentially raise a FileNotFoundError if the file doesn't exist.\n",
    "The finally block will always execute, regardless of whether an exception occurs, and it's used to close the file handle to prevent any\n",
    "resource leaks.\n",
    "\n",
    "3. Raise\n",
    "The raise statement can be used to raise an exception manually in your code. Here's an example:\"\"\"\n",
    "x = -1\n",
    "\n",
    "if x < 0:\n",
    "    raise ValueError(\"Error: x cannot be negative\")\n",
    "\n",
    "\"\"\"\n",
    "In this example, we're manually raising a ValueError with a custom error message if the value of x is negative. This can be useful if you \n",
    "want to create custom exceptions or enforce specific constraints on your inputs.\"\"\"\n"
   ]
  },
  {
   "cell_type": "code",
   "execution_count": 6,
   "id": "de05d772-c532-45e2-be76-43426a4273fa",
   "metadata": {},
   "outputs": [
    {
     "data": {
      "text/plain": [
       "\"In this example, we're defining a function that calculates the square root of a number. If the input is negative, we're raising our custom \\nInvalidInputError exception with a custom error message. If the input is valid, we're returning the square root of the input.\\n\\nBy using custom exceptions in this way, we can provide more informative error messages to the user and help them understand exactly what \\nwent wrong in our code. Custom exceptions can be especially useful in large or complex projects, where there may be many different types \\nof errors that need to be handled in a specific way.\""
      ]
     },
     "execution_count": 6,
     "metadata": {},
     "output_type": "execute_result"
    }
   ],
   "source": [
    "\"\"\"Q5. What are custom exception in python? what do we need custom exceptions? explain with an example.\n",
    "Ans.: Custom exceptions in Python are exceptions that are defined by the programmer to represent specific error conditions that are not covered by built-in \n",
    "exceptions. Custom exceptions are useful when you want to raise an exception that is more specific than the built-in exceptions, and that\n",
    "provides more information to the user about what went wrong.\n",
    "\n",
    "To define a custom exception in Python, you can create a new class that inherits from the built-in Exception class or any of its \n",
    "subclasses. Here's an example:\"\"\"\n",
    "\n",
    "def calculate_square_root(x):\n",
    "    if x < 0:\n",
    "        raise InvalidInputError(\"Error: Cannot calculate square root of negative number\")\n",
    "    else:\n",
    "        return math.sqrt(x)\n",
    "\n",
    "\"\"\"In this example, we're defining a function that calculates the square root of a number. If the input is negative, we're raising our custom \n",
    "InvalidInputError exception with a custom error message. If the input is valid, we're returning the square root of the input.\n",
    "\n",
    "By using custom exceptions in this way, we can provide more informative error messages to the user and help them understand exactly what \n",
    "went wrong in our code. Custom exceptions can be especially useful in large or complex projects, where there may be many different types \n",
    "of errors that need to be handled in a specific way.\"\"\""
   ]
  },
  {
   "cell_type": "code",
   "execution_count": 7,
   "id": "a5efee9c-4e31-41c0-8163-c7e8622dd877",
   "metadata": {},
   "outputs": [
    {
     "name": "stdout",
     "output_type": "stream",
     "text": [
      "Error: Cannot calculate square root of negative number\n"
     ]
    }
   ],
   "source": [
    "\"\"\"Q6. Create a Custom Exception Class. use this class to handle an Exception.\"\"\"\n",
    "\n",
    "class NegativeNumberError(Exception):\n",
    "    def __init__(self, message):\n",
    "        self.message = message\n",
    "        \n",
    "def calculate_square_root(x):\n",
    "    if x < 0:\n",
    "        raise NegativeNumberError(\"Error: Cannot calculate square root of negative number\")\n",
    "    else:\n",
    "        return math.sqrt(x)\n",
    "\n",
    "try:\n",
    "    result = calculate_square_root(-5)\n",
    "    print(\"The square root is:\", result)\n",
    "except NegativeNumberError as e:\n",
    "    print(e.message)\n"
   ]
  },
  {
   "cell_type": "code",
   "execution_count": null,
   "id": "0bd571e1-d1aa-4134-ad3b-ccc3ab4d0761",
   "metadata": {},
   "outputs": [],
   "source": []
  }
 ],
 "metadata": {
  "kernelspec": {
   "display_name": "Python 3 (ipykernel)",
   "language": "python",
   "name": "python3"
  },
  "language_info": {
   "codemirror_mode": {
    "name": "ipython",
    "version": 3
   },
   "file_extension": ".py",
   "mimetype": "text/x-python",
   "name": "python",
   "nbconvert_exporter": "python",
   "pygments_lexer": "ipython3",
   "version": "3.10.8"
  }
 },
 "nbformat": 4,
 "nbformat_minor": 5
}
